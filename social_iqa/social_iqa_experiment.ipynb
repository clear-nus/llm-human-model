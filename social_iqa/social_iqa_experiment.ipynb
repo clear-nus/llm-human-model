{
 "cells": [
  {
   "cell_type": "code",
   "execution_count": 1,
   "metadata": {
    "collapsed": true
   },
   "outputs": [],
   "source": [
    "%load_ext autoreload\n",
    "%autoreload 2\n",
    "\n",
    "import pandas as pd\n",
    "import social_iqa_experiment_utils\n",
    "from tqdm import tqdm\n",
    "import os\n",
    "import csv\n",
    "import sys\n",
    "sys.path.append('../')\n",
    "import llm_utils\n",
    "from transformers import T5Tokenizer, T5ForConditionalGeneration"
   ]
  },
  {
   "cell_type": "code",
   "execution_count": 2,
   "metadata": {
    "collapsed": false
   },
   "outputs": [],
   "source": [
    "json_path = './socialIQa_v1.4_withDims/socialIWa_v1.4_dev_wDims.jsonl'\n",
    "df = pd.read_json(json_path, lines=True)\n",
    "answer_choices = ['A', 'B', 'C']"
   ]
  },
  {
   "cell_type": "code",
   "execution_count": 3,
   "metadata": {
    "collapsed": false
   },
   "outputs": [],
   "source": [
    "social_iqa_t5_results_csv_path = './results/social_iqa_t5_results.csv'\n",
    "if not os.path.exists(social_iqa_t5_results_csv_path):\n",
    "    # Load model\n",
    "    t5_model = T5ForConditionalGeneration.from_pretrained(\"google/flan-t5-xxl\", device_map=\"auto\")\n",
    "    t5_tokenizer = T5Tokenizer.from_pretrained(\"google/flan-t5-xxl\")\n",
    "\n",
    "    social_iqa_llm_results_file = open(social_iqa_t5_results_csv_path, 'w')\n",
    "    writer = csv.writer(social_iqa_llm_results_file)\n",
    "    header = ['template']\n",
    "    header += answer_choices\n",
    "    writer.writerow(header)\n",
    "\n",
    "    for row_idx, row in tqdm(df.iterrows()):\n",
    "        template = social_iqa_experiment_utils.create_template_t5(row)\n",
    "        probs = llm_utils.get_probs_t5([template], answer_choices, t5_model, t5_tokenizer)[0]\n",
    "        writer.writerow([template] + probs)\n",
    "\n",
    "    social_iqa_llm_results_file.close()"
   ]
  },
  {
   "cell_type": "code",
   "execution_count": 4,
   "metadata": {
    "collapsed": false
   },
   "outputs": [],
   "source": [
    "social_iqa_davinci_results_csv_path = './results/social_iqa_davinci_results.csv'\n",
    "if not os.path.exists(social_iqa_davinci_results_csv_path):\n",
    "    social_iqa_llm_results_file = open(social_iqa_davinci_results_csv_path, 'w')\n",
    "    writer = csv.writer(social_iqa_llm_results_file)\n",
    "    header = ['template']\n",
    "    header += answer_choices\n",
    "    writer.writerow(header)\n",
    "\n",
    "    for row_idx, row in tqdm(df.iterrows()):\n",
    "        template = social_iqa_experiment_utils.create_template_davinci(row)\n",
    "        probs = llm_utils.get_probs_davinci(template, answer_choices)\n",
    "        writer.writerow([template] + probs)\n",
    "\n",
    "    social_iqa_llm_results_file.close()"
   ]
  },
  {
   "cell_type": "code",
   "execution_count": 5,
   "metadata": {
    "collapsed": false
   },
   "outputs": [
    {
     "name": "stdout",
     "output_type": "stream",
     "text": [
      "Davinci Results: \n",
      "\n",
      "Average Invalid Completion Rate : 0.026519429022858088\n",
      "\n",
      "Dimension Intent: Accuracy: 0.7352941176470589\n",
      "Dimension Need: Accuracy: 0.7017543859649122\n",
      "Dimension Attr: Accuracy: 0.7177700348432056\n",
      "Dimension Effect: Accuracy: 0.6880733944954128\n",
      "Dimension React: Accuracy: 0.7686746987951807\n",
      "Dimension Want: Accuracy: 0.7059859154929577\n",
      "\n",
      "Overall Accuracy: 0.7221084953940634\n"
     ]
    }
   ],
   "source": [
    "print('Davinci Results: \\n')\n",
    "davinci_results_df = pd.read_csv(social_iqa_davinci_results_csv_path)\n",
    "social_iqa_experiment_utils.analyze_result(davinci_results_df, df)"
   ]
  },
  {
   "cell_type": "code",
   "execution_count": 6,
   "metadata": {
    "collapsed": false
   },
   "outputs": [
    {
     "name": "stdout",
     "output_type": "stream",
     "text": [
      "T5 Results: \n",
      "\n",
      "Average Invalid Completion Rate : 0.001164901296521692\n",
      "\n",
      "Dimension Intent: Accuracy: 0.8529411764705882\n",
      "Dimension Need: Accuracy: 0.8552631578947368\n",
      "Dimension Attr: Accuracy: 0.7804878048780488\n",
      "Dimension Effect: Accuracy: 0.7798165137614679\n",
      "Dimension React: Accuracy: 0.8361445783132531\n",
      "Dimension Want: Accuracy: 0.8116197183098591\n",
      "\n",
      "Overall Accuracy: 0.8188331627430911\n"
     ]
    }
   ],
   "source": [
    "print('T5 Results: \\n')\n",
    "t5_results_df = pd.read_csv(social_iqa_t5_results_csv_path)\n",
    "social_iqa_experiment_utils.analyze_result(t5_results_df, df)"
   ]
  }
 ],
 "metadata": {
  "kernelspec": {
   "display_name": "Python 3",
   "language": "python",
   "name": "python3"
  },
  "language_info": {
   "codemirror_mode": {
    "name": "ipython",
    "version": 3
   },
   "file_extension": ".py",
   "mimetype": "text/x-python",
   "name": "python",
   "nbconvert_exporter": "python",
   "pygments_lexer": "ipython3",
   "version": "3.9.19"
  }
 },
 "nbformat": 4,
 "nbformat_minor": 0
}
