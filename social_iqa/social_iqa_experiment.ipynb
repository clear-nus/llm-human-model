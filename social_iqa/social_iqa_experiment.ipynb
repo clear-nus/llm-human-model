{
 "cells": [
  {
   "cell_type": "code",
   "execution_count": 113,
   "metadata": {
    "collapsed": true
   },
   "outputs": [
    {
     "name": "stdout",
     "output_type": "stream",
     "text": [
      "The autoreload extension is already loaded. To reload it, use:\n",
      "  %reload_ext autoreload\n"
     ]
    }
   ],
   "source": [
    "%load_ext autoreload\n",
    "%autoreload 2\n",
    "\n",
    "import pandas as pd\n",
    "import social_iqa_experiment_utils\n",
    "from tqdm import tqdm\n",
    "import os\n",
    "import csv\n",
    "import utils\n",
    "from transformers import T5Tokenizer, T5ForConditionalGeneration"
   ]
  },
  {
   "cell_type": "code",
   "execution_count": 114,
   "outputs": [],
   "source": [
    "json_path = './socialIQa_v1.4_withDims/socialIWa_v1.4_dev_wDims.jsonl'\n",
    "df = pd.read_json(json_path, lines=True)\n",
    "answer_choices = ['A', 'B', 'C']"
   ],
   "metadata": {
    "collapsed": false
   }
  },
  {
   "cell_type": "code",
   "execution_count": 115,
   "outputs": [],
   "source": [
    "social_iqa_t5_results_csv_path = './results/social_iqa_t5_results.csv'\n",
    "if not os.path.exists(social_iqa_t5_results_csv_path):\n",
    "    # Load model\n",
    "    max_memory = {0: \"20GIB\", 1: \"20GIB\", 2: \"20GIB\", 3: \"20GIB\"}\n",
    "    t5_model = T5ForConditionalGeneration.from_pretrained(\"google/flan-t5-xxl\", device_map=\"auto\", max_memory=max_memory)\n",
    "    t5_tokenizer = T5Tokenizer.from_pretrained(\"google/flan-t5-xxl\")\n",
    "\n",
    "    social_iqa_llm_results_file = open(social_iqa_t5_results_csv_path, 'w')\n",
    "    writer = csv.writer(social_iqa_llm_results_file)\n",
    "    header = ['template']\n",
    "    header += answer_choices\n",
    "    writer.writerow(header)\n",
    "\n",
    "    for row_idx, row in tqdm(df.iterrows()):\n",
    "        template = social_iqa_experiment_utils.create_template_t5(row)\n",
    "        probs = utils.get_probs_t5([template], answer_choices, t5_model, t5_tokenizer)[0]\n",
    "        writer.writerow([template] + probs)\n",
    "\n",
    "    social_iqa_llm_results_file.close()"
   ],
   "metadata": {
    "collapsed": false
   }
  },
  {
   "cell_type": "code",
   "execution_count": 116,
   "outputs": [],
   "source": [
    "social_iqa_davinci_results_csv_path = './results/social_iqa_davinci_results.csv'\n",
    "if not os.path.exists(social_iqa_davinci_results_csv_path):\n",
    "    social_iqa_llm_results_file = open(social_iqa_davinci_results_csv_path, 'w')\n",
    "    writer = csv.writer(social_iqa_llm_results_file)\n",
    "    header = ['template']\n",
    "    header += answer_choices\n",
    "    writer.writerow(header)\n",
    "\n",
    "    for row_idx, row in tqdm(df.iterrows()):\n",
    "        template = social_iqa_experiment_utils.create_template_davinci(row)\n",
    "        probs = utils.get_probs_davinci(template, answer_choices)\n",
    "        writer.writerow([template] + probs)\n",
    "\n",
    "    social_iqa_llm_results_file.close()"
   ],
   "metadata": {
    "collapsed": false
   }
  },
  {
   "cell_type": "code",
   "execution_count": 117,
   "outputs": [
    {
     "name": "stdout",
     "output_type": "stream",
     "text": [
      "Davinci Results: \n",
      "\n",
      "Average Invalid Completion Rate : 0.026519429022858088\n",
      "\n",
      "Dimension Intent: Accuracy: 0.7352941176470589\n",
      "Dimension Need: Accuracy: 0.7017543859649122\n",
      "Dimension Attr: Accuracy: 0.7177700348432056\n",
      "Dimension Effect: Accuracy: 0.6880733944954128\n",
      "Dimension React: Accuracy: 0.7686746987951807\n",
      "Dimension Want: Accuracy: 0.7059859154929577\n",
      "\n",
      "Overall Accuracy: 0.7221084953940634\n"
     ]
    }
   ],
   "source": [
    "print('Davinci Results: \\n')\n",
    "davinci_results_df = pd.read_csv(social_iqa_davinci_results_csv_path)\n",
    "social_iqa_experiment_utils.analyze_result(davinci_results_df, df)"
   ],
   "metadata": {
    "collapsed": false
   }
  },
  {
   "cell_type": "code",
   "execution_count": 118,
   "outputs": [
    {
     "name": "stdout",
     "output_type": "stream",
     "text": [
      "T5 Results: \n",
      "\n",
      "Average Invalid Completion Rate : 0.001164901296521692\n",
      "\n",
      "Dimension Intent: Accuracy: 0.8529411764705882\n",
      "Dimension Need: Accuracy: 0.8552631578947368\n",
      "Dimension Attr: Accuracy: 0.7804878048780488\n",
      "Dimension Effect: Accuracy: 0.7798165137614679\n",
      "Dimension React: Accuracy: 0.8361445783132531\n",
      "Dimension Want: Accuracy: 0.8116197183098591\n",
      "\n",
      "Overall Accuracy: 0.8188331627430911\n"
     ]
    }
   ],
   "source": [
    "print('T5 Results: \\n')\n",
    "t5_results_df = pd.read_csv(social_iqa_t5_results_csv_path)\n",
    "social_iqa_experiment_utils.analyze_result(t5_results_df, df)"
   ],
   "metadata": {
    "collapsed": false
   }
  }
 ],
 "metadata": {
  "kernelspec": {
   "display_name": "Python 3",
   "language": "python",
   "name": "python3"
  },
  "language_info": {
   "codemirror_mode": {
    "name": "ipython",
    "version": 2
   },
   "file_extension": ".py",
   "mimetype": "text/x-python",
   "name": "python",
   "nbconvert_exporter": "python",
   "pygments_lexer": "ipython2",
   "version": "2.7.6"
  }
 },
 "nbformat": 4,
 "nbformat_minor": 0
}
