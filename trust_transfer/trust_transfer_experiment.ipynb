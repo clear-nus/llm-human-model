{
 "cells": [
  {
   "cell_type": "code",
   "execution_count": 1,
   "metadata": {
    "collapsed": true
   },
   "outputs": [],
   "source": [
    "%load_ext autoreload\n",
    "%autoreload 2\n",
    "import numpy as np\n",
    "import trust_transfer_experiment_utils\n",
    "import pandas as pd\n",
    "import csv\n",
    "import sklearn.metrics as metrics\n",
    "import os\n",
    "from tqdm import tqdm\n",
    "import utils\n",
    "from transformers import T5Tokenizer, T5ForConditionalGeneration\n",
    "\n",
    "task_descr = {\n",
    "    'household': [\n",
    "        ' ',\n",
    "        'Pick and place a glass',\n",
    "        'Pick and place a plastic can',\n",
    "        'Pick and place a lemon',\n",
    "        'Pick and place a plastic bottle',\n",
    "        'Pick and place an apple',\n",
    "        'Pick and place a plastic cup',\n",
    "        'Navigate while avoiding moving people',\n",
    "        'Navigate to the main room door',\n",
    "        'Navigate while following a person',\n",
    "        'Navigate to the dining table',\n",
    "        'Navigate while avoiding obstacles',\n",
    "        'Navigate to the living room'\n",
    "    ],\n",
    "    'driving': [\n",
    "        ' ',\n",
    "        'Parking backwards cars and people around, misaligned',\n",
    "        'Parking backwards empty lot, misaligned',\n",
    "        'Parking backwards cars and people around, aligned',\n",
    "        'Parking forwards empty lot, aligned',\n",
    "        'Parking forwards cars and people around, misaligned',\n",
    "        'Parking forwards empty lot, misaligned',\n",
    "        'Navigating lane merge with other moving vehicles',\n",
    "        'Navigating lane merge on a clear road',\n",
    "        'Navigating traffic-circle with other moving vehicles',\n",
    "        'Navigating traffic-circle on a clear road',\n",
    "        'Navigating T-junction with other moving vehicles',\n",
    "        'Navigating T-junction on a clear road',\n",
    "    ]\n",
    "}"
   ]
  },
  {
   "cell_type": "code",
   "execution_count": 2,
   "outputs": [],
   "source": [
    "driving_csv_path = './data/trust_transfer_driving_cleaned.csv'\n",
    "household_csv_path = './data/trust_transfer_household_cleaned.csv'\n",
    "\n",
    "trust_transfer_driving_df = pd.read_csv(driving_csv_path)\n",
    "trust_transfer_household_df = pd.read_csv(household_csv_path)\n",
    "\n",
    "dom_list = ['household', 'driving']\n",
    "prompt_structure_list = ['base', 'altered']\n",
    "\n",
    "answer_choices = [str(i) for i in range(1, 8)]"
   ],
   "metadata": {
    "collapsed": false
   }
  },
  {
   "cell_type": "code",
   "execution_count": 24,
   "outputs": [
    {
     "ename": "KeyboardInterrupt",
     "evalue": "",
     "output_type": "error",
     "traceback": [
      "\u001B[0;31m---------------------------------------------------------------------------\u001B[0m",
      "\u001B[0;31mKeyboardInterrupt\u001B[0m                         Traceback (most recent call last)",
      "\u001B[0;32m/tmp/ipykernel_144384/4249884057.py\u001B[0m in \u001B[0;36m<module>\u001B[0;34m\u001B[0m\n\u001B[1;32m      7\u001B[0m             \u001B[0;32mif\u001B[0m \u001B[0;32mnot\u001B[0m \u001B[0mmodel_loaded\u001B[0m\u001B[0;34m:\u001B[0m\u001B[0;34m\u001B[0m\u001B[0;34m\u001B[0m\u001B[0m\n\u001B[1;32m      8\u001B[0m                 \u001B[0mmax_memory\u001B[0m \u001B[0;34m=\u001B[0m \u001B[0;34m{\u001B[0m\u001B[0;36m0\u001B[0m\u001B[0;34m:\u001B[0m \u001B[0;34m\"20GIB\"\u001B[0m\u001B[0;34m,\u001B[0m \u001B[0;36m1\u001B[0m\u001B[0;34m:\u001B[0m \u001B[0;34m\"20GIB\"\u001B[0m\u001B[0;34m,\u001B[0m \u001B[0;36m2\u001B[0m\u001B[0;34m:\u001B[0m \u001B[0;34m\"20GIB\"\u001B[0m\u001B[0;34m,\u001B[0m \u001B[0;36m3\u001B[0m\u001B[0;34m:\u001B[0m \u001B[0;34m\"20GIB\"\u001B[0m\u001B[0;34m}\u001B[0m\u001B[0;34m\u001B[0m\u001B[0;34m\u001B[0m\u001B[0m\n\u001B[0;32m----> 9\u001B[0;31m                 \u001B[0mt5_model\u001B[0m \u001B[0;34m=\u001B[0m \u001B[0mT5ForConditionalGeneration\u001B[0m\u001B[0;34m.\u001B[0m\u001B[0mfrom_pretrained\u001B[0m\u001B[0;34m(\u001B[0m\u001B[0;34m\"google/flan-t5-xxl\"\u001B[0m\u001B[0;34m,\u001B[0m \u001B[0mdevice_map\u001B[0m\u001B[0;34m=\u001B[0m\u001B[0;34m\"auto\"\u001B[0m\u001B[0;34m,\u001B[0m \u001B[0mmax_memory\u001B[0m\u001B[0;34m=\u001B[0m\u001B[0mmax_memory\u001B[0m\u001B[0;34m)\u001B[0m\u001B[0;34m\u001B[0m\u001B[0;34m\u001B[0m\u001B[0m\n\u001B[0m\u001B[1;32m     10\u001B[0m                 \u001B[0mt5_tokenizer\u001B[0m \u001B[0;34m=\u001B[0m \u001B[0mT5Tokenizer\u001B[0m\u001B[0;34m.\u001B[0m\u001B[0mfrom_pretrained\u001B[0m\u001B[0;34m(\u001B[0m\u001B[0;34m\"google/flan-t5-xxl\"\u001B[0m\u001B[0;34m)\u001B[0m\u001B[0;34m\u001B[0m\u001B[0;34m\u001B[0m\u001B[0m\n\u001B[1;32m     11\u001B[0m                 \u001B[0mmodel_loaded\u001B[0m \u001B[0;34m=\u001B[0m \u001B[0;32mTrue\u001B[0m\u001B[0;34m\u001B[0m\u001B[0;34m\u001B[0m\u001B[0m\n",
      "\u001B[0;32m~/miniconda3/envs/llm_human_model/lib/python3.7/site-packages/transformers/modeling_utils.py\u001B[0m in \u001B[0;36mfrom_pretrained\u001B[0;34m(cls, pretrained_model_name_or_path, *model_args, **kwargs)\u001B[0m\n\u001B[1;32m   2206\u001B[0m                         \u001B[0m_commit_hash\u001B[0m\u001B[0;34m=\u001B[0m\u001B[0mcommit_hash\u001B[0m\u001B[0;34m,\u001B[0m\u001B[0;34m\u001B[0m\u001B[0;34m\u001B[0m\u001B[0m\n\u001B[1;32m   2207\u001B[0m                     )\n\u001B[0;32m-> 2208\u001B[0;31m                     \u001B[0mresolved_archive_file\u001B[0m \u001B[0;34m=\u001B[0m \u001B[0mcached_file\u001B[0m\u001B[0;34m(\u001B[0m\u001B[0mpretrained_model_name_or_path\u001B[0m\u001B[0;34m,\u001B[0m \u001B[0mfilename\u001B[0m\u001B[0;34m,\u001B[0m \u001B[0;34m**\u001B[0m\u001B[0mcached_file_kwargs\u001B[0m\u001B[0;34m)\u001B[0m\u001B[0;34m\u001B[0m\u001B[0;34m\u001B[0m\u001B[0m\n\u001B[0m\u001B[1;32m   2209\u001B[0m \u001B[0;34m\u001B[0m\u001B[0m\n\u001B[1;32m   2210\u001B[0m                     \u001B[0;31m# Since we set _raise_exceptions_for_missing_entries=False, we don't get an exception but a None\u001B[0m\u001B[0;34m\u001B[0m\u001B[0;34m\u001B[0m\u001B[0;34m\u001B[0m\u001B[0m\n",
      "\u001B[0;32m~/miniconda3/envs/llm_human_model/lib/python3.7/site-packages/transformers/utils/hub.py\u001B[0m in \u001B[0;36mcached_file\u001B[0;34m(path_or_repo_id, filename, cache_dir, force_download, resume_download, proxies, use_auth_token, revision, local_files_only, subfolder, user_agent, _raise_exceptions_for_missing_entries, _raise_exceptions_for_connection_errors, _commit_hash)\u001B[0m\n\u001B[1;32m    418\u001B[0m             \u001B[0mresume_download\u001B[0m\u001B[0;34m=\u001B[0m\u001B[0mresume_download\u001B[0m\u001B[0;34m,\u001B[0m\u001B[0;34m\u001B[0m\u001B[0;34m\u001B[0m\u001B[0m\n\u001B[1;32m    419\u001B[0m             \u001B[0muse_auth_token\u001B[0m\u001B[0;34m=\u001B[0m\u001B[0muse_auth_token\u001B[0m\u001B[0;34m,\u001B[0m\u001B[0;34m\u001B[0m\u001B[0;34m\u001B[0m\u001B[0m\n\u001B[0;32m--> 420\u001B[0;31m             \u001B[0mlocal_files_only\u001B[0m\u001B[0;34m=\u001B[0m\u001B[0mlocal_files_only\u001B[0m\u001B[0;34m,\u001B[0m\u001B[0;34m\u001B[0m\u001B[0;34m\u001B[0m\u001B[0m\n\u001B[0m\u001B[1;32m    421\u001B[0m         )\n\u001B[1;32m    422\u001B[0m \u001B[0;34m\u001B[0m\u001B[0m\n",
      "\u001B[0;32m~/miniconda3/envs/llm_human_model/lib/python3.7/site-packages/huggingface_hub/utils/_validators.py\u001B[0m in \u001B[0;36m_inner_fn\u001B[0;34m(*args, **kwargs)\u001B[0m\n\u001B[1;32m    122\u001B[0m             )\n\u001B[1;32m    123\u001B[0m \u001B[0;34m\u001B[0m\u001B[0m\n\u001B[0;32m--> 124\u001B[0;31m         \u001B[0;32mreturn\u001B[0m \u001B[0mfn\u001B[0m\u001B[0;34m(\u001B[0m\u001B[0;34m*\u001B[0m\u001B[0margs\u001B[0m\u001B[0;34m,\u001B[0m \u001B[0;34m**\u001B[0m\u001B[0mkwargs\u001B[0m\u001B[0;34m)\u001B[0m\u001B[0;34m\u001B[0m\u001B[0;34m\u001B[0m\u001B[0m\n\u001B[0m\u001B[1;32m    125\u001B[0m \u001B[0;34m\u001B[0m\u001B[0m\n\u001B[1;32m    126\u001B[0m     \u001B[0;32mreturn\u001B[0m \u001B[0m_inner_fn\u001B[0m  \u001B[0;31m# type: ignore\u001B[0m\u001B[0;34m\u001B[0m\u001B[0;34m\u001B[0m\u001B[0m\n",
      "\u001B[0;32m~/miniconda3/envs/llm_human_model/lib/python3.7/site-packages/huggingface_hub/file_download.py\u001B[0m in \u001B[0;36mhf_hub_download\u001B[0;34m(repo_id, filename, subfolder, repo_type, revision, library_name, library_version, cache_dir, user_agent, force_download, force_filename, proxies, etag_timeout, resume_download, token, local_files_only, legacy_cache_layout)\u001B[0m\n\u001B[1;32m   1108\u001B[0m                     \u001B[0mtoken\u001B[0m\u001B[0;34m=\u001B[0m\u001B[0mtoken\u001B[0m\u001B[0;34m,\u001B[0m\u001B[0;34m\u001B[0m\u001B[0;34m\u001B[0m\u001B[0m\n\u001B[1;32m   1109\u001B[0m                     \u001B[0mproxies\u001B[0m\u001B[0;34m=\u001B[0m\u001B[0mproxies\u001B[0m\u001B[0;34m,\u001B[0m\u001B[0;34m\u001B[0m\u001B[0;34m\u001B[0m\u001B[0m\n\u001B[0;32m-> 1110\u001B[0;31m                     \u001B[0mtimeout\u001B[0m\u001B[0;34m=\u001B[0m\u001B[0metag_timeout\u001B[0m\u001B[0;34m,\u001B[0m\u001B[0;34m\u001B[0m\u001B[0;34m\u001B[0m\u001B[0m\n\u001B[0m\u001B[1;32m   1111\u001B[0m                 )\n\u001B[1;32m   1112\u001B[0m             \u001B[0;32mexcept\u001B[0m \u001B[0mEntryNotFoundError\u001B[0m \u001B[0;32mas\u001B[0m \u001B[0mhttp_error\u001B[0m\u001B[0;34m:\u001B[0m\u001B[0;34m\u001B[0m\u001B[0;34m\u001B[0m\u001B[0m\n",
      "\u001B[0;32m~/miniconda3/envs/llm_human_model/lib/python3.7/site-packages/huggingface_hub/utils/_validators.py\u001B[0m in \u001B[0;36m_inner_fn\u001B[0;34m(*args, **kwargs)\u001B[0m\n\u001B[1;32m    122\u001B[0m             )\n\u001B[1;32m    123\u001B[0m \u001B[0;34m\u001B[0m\u001B[0m\n\u001B[0;32m--> 124\u001B[0;31m         \u001B[0;32mreturn\u001B[0m \u001B[0mfn\u001B[0m\u001B[0;34m(\u001B[0m\u001B[0;34m*\u001B[0m\u001B[0margs\u001B[0m\u001B[0;34m,\u001B[0m \u001B[0;34m**\u001B[0m\u001B[0mkwargs\u001B[0m\u001B[0;34m)\u001B[0m\u001B[0;34m\u001B[0m\u001B[0;34m\u001B[0m\u001B[0m\n\u001B[0m\u001B[1;32m    125\u001B[0m \u001B[0;34m\u001B[0m\u001B[0m\n\u001B[1;32m    126\u001B[0m     \u001B[0;32mreturn\u001B[0m \u001B[0m_inner_fn\u001B[0m  \u001B[0;31m# type: ignore\u001B[0m\u001B[0;34m\u001B[0m\u001B[0;34m\u001B[0m\u001B[0m\n",
      "\u001B[0;32m~/miniconda3/envs/llm_human_model/lib/python3.7/site-packages/huggingface_hub/file_download.py\u001B[0m in \u001B[0;36mget_hf_file_metadata\u001B[0;34m(url, token, proxies, timeout)\u001B[0m\n\u001B[1;32m   1437\u001B[0m         \u001B[0mfollow_relative_redirects\u001B[0m\u001B[0;34m=\u001B[0m\u001B[0;32mTrue\u001B[0m\u001B[0;34m,\u001B[0m\u001B[0;34m\u001B[0m\u001B[0;34m\u001B[0m\u001B[0m\n\u001B[1;32m   1438\u001B[0m         \u001B[0mproxies\u001B[0m\u001B[0;34m=\u001B[0m\u001B[0mproxies\u001B[0m\u001B[0;34m,\u001B[0m\u001B[0;34m\u001B[0m\u001B[0;34m\u001B[0m\u001B[0m\n\u001B[0;32m-> 1439\u001B[0;31m         \u001B[0mtimeout\u001B[0m\u001B[0;34m=\u001B[0m\u001B[0mtimeout\u001B[0m\u001B[0;34m,\u001B[0m\u001B[0;34m\u001B[0m\u001B[0;34m\u001B[0m\u001B[0m\n\u001B[0m\u001B[1;32m   1440\u001B[0m     )\n\u001B[1;32m   1441\u001B[0m     \u001B[0mhf_raise_for_status\u001B[0m\u001B[0;34m(\u001B[0m\u001B[0mr\u001B[0m\u001B[0;34m)\u001B[0m\u001B[0;34m\u001B[0m\u001B[0;34m\u001B[0m\u001B[0m\n",
      "\u001B[0;32m~/miniconda3/envs/llm_human_model/lib/python3.7/site-packages/huggingface_hub/file_download.py\u001B[0m in \u001B[0;36m_request_wrapper\u001B[0;34m(method, url, max_retries, base_wait_time, max_wait_time, timeout, follow_relative_redirects, **params)\u001B[0m\n\u001B[1;32m    411\u001B[0m             \u001B[0mtimeout\u001B[0m\u001B[0;34m=\u001B[0m\u001B[0mtimeout\u001B[0m\u001B[0;34m,\u001B[0m\u001B[0;34m\u001B[0m\u001B[0;34m\u001B[0m\u001B[0m\n\u001B[1;32m    412\u001B[0m             \u001B[0mfollow_relative_redirects\u001B[0m\u001B[0;34m=\u001B[0m\u001B[0;32mFalse\u001B[0m\u001B[0;34m,\u001B[0m\u001B[0;34m\u001B[0m\u001B[0;34m\u001B[0m\u001B[0m\n\u001B[0;32m--> 413\u001B[0;31m             \u001B[0;34m**\u001B[0m\u001B[0mparams\u001B[0m\u001B[0;34m,\u001B[0m\u001B[0;34m\u001B[0m\u001B[0;34m\u001B[0m\u001B[0m\n\u001B[0m\u001B[1;32m    414\u001B[0m         )\n\u001B[1;32m    415\u001B[0m \u001B[0;34m\u001B[0m\u001B[0m\n",
      "\u001B[0;32m~/miniconda3/envs/llm_human_model/lib/python3.7/site-packages/huggingface_hub/file_download.py\u001B[0m in \u001B[0;36m_request_wrapper\u001B[0;34m(method, url, max_retries, base_wait_time, max_wait_time, timeout, follow_relative_redirects, **params)\u001B[0m\n\u001B[1;32m    447\u001B[0m         \u001B[0mretry_on_status_codes\u001B[0m\u001B[0;34m=\u001B[0m\u001B[0;34m(\u001B[0m\u001B[0;34m)\u001B[0m\u001B[0;34m,\u001B[0m\u001B[0;34m\u001B[0m\u001B[0;34m\u001B[0m\u001B[0m\n\u001B[1;32m    448\u001B[0m         \u001B[0mtimeout\u001B[0m\u001B[0;34m=\u001B[0m\u001B[0mtimeout\u001B[0m\u001B[0;34m,\u001B[0m\u001B[0;34m\u001B[0m\u001B[0;34m\u001B[0m\u001B[0m\n\u001B[0;32m--> 449\u001B[0;31m         \u001B[0;34m**\u001B[0m\u001B[0mparams\u001B[0m\u001B[0;34m,\u001B[0m\u001B[0;34m\u001B[0m\u001B[0;34m\u001B[0m\u001B[0m\n\u001B[0m\u001B[1;32m    450\u001B[0m     )\n\u001B[1;32m    451\u001B[0m \u001B[0;34m\u001B[0m\u001B[0m\n",
      "\u001B[0;32m~/miniconda3/envs/llm_human_model/lib/python3.7/site-packages/huggingface_hub/utils/_http.py\u001B[0m in \u001B[0;36mhttp_backoff\u001B[0;34m(method, url, max_retries, base_wait_time, max_wait_time, retry_on_exceptions, retry_on_status_codes, **kwargs)\u001B[0m\n\u001B[1;32m    127\u001B[0m \u001B[0;34m\u001B[0m\u001B[0m\n\u001B[1;32m    128\u001B[0m             \u001B[0;31m# Perform request and return if status_code is not in the retry list.\u001B[0m\u001B[0;34m\u001B[0m\u001B[0;34m\u001B[0m\u001B[0;34m\u001B[0m\u001B[0m\n\u001B[0;32m--> 129\u001B[0;31m             \u001B[0mresponse\u001B[0m \u001B[0;34m=\u001B[0m \u001B[0mrequests\u001B[0m\u001B[0;34m.\u001B[0m\u001B[0mrequest\u001B[0m\u001B[0;34m(\u001B[0m\u001B[0mmethod\u001B[0m\u001B[0;34m=\u001B[0m\u001B[0mmethod\u001B[0m\u001B[0;34m,\u001B[0m \u001B[0murl\u001B[0m\u001B[0;34m=\u001B[0m\u001B[0murl\u001B[0m\u001B[0;34m,\u001B[0m \u001B[0;34m**\u001B[0m\u001B[0mkwargs\u001B[0m\u001B[0;34m)\u001B[0m\u001B[0;34m\u001B[0m\u001B[0;34m\u001B[0m\u001B[0m\n\u001B[0m\u001B[1;32m    130\u001B[0m             \u001B[0;32mif\u001B[0m \u001B[0mresponse\u001B[0m\u001B[0;34m.\u001B[0m\u001B[0mstatus_code\u001B[0m \u001B[0;32mnot\u001B[0m \u001B[0;32min\u001B[0m \u001B[0mretry_on_status_codes\u001B[0m\u001B[0;34m:\u001B[0m\u001B[0;34m\u001B[0m\u001B[0;34m\u001B[0m\u001B[0m\n\u001B[1;32m    131\u001B[0m                 \u001B[0;32mreturn\u001B[0m \u001B[0mresponse\u001B[0m\u001B[0;34m\u001B[0m\u001B[0;34m\u001B[0m\u001B[0m\n",
      "\u001B[0;32m~/miniconda3/envs/llm_human_model/lib/python3.7/site-packages/requests/api.py\u001B[0m in \u001B[0;36mrequest\u001B[0;34m(method, url, **kwargs)\u001B[0m\n\u001B[1;32m     57\u001B[0m     \u001B[0;31m# cases, and look like a memory leak in others.\u001B[0m\u001B[0;34m\u001B[0m\u001B[0;34m\u001B[0m\u001B[0;34m\u001B[0m\u001B[0m\n\u001B[1;32m     58\u001B[0m     \u001B[0;32mwith\u001B[0m \u001B[0msessions\u001B[0m\u001B[0;34m.\u001B[0m\u001B[0mSession\u001B[0m\u001B[0;34m(\u001B[0m\u001B[0;34m)\u001B[0m \u001B[0;32mas\u001B[0m \u001B[0msession\u001B[0m\u001B[0;34m:\u001B[0m\u001B[0;34m\u001B[0m\u001B[0;34m\u001B[0m\u001B[0m\n\u001B[0;32m---> 59\u001B[0;31m         \u001B[0;32mreturn\u001B[0m \u001B[0msession\u001B[0m\u001B[0;34m.\u001B[0m\u001B[0mrequest\u001B[0m\u001B[0;34m(\u001B[0m\u001B[0mmethod\u001B[0m\u001B[0;34m=\u001B[0m\u001B[0mmethod\u001B[0m\u001B[0;34m,\u001B[0m \u001B[0murl\u001B[0m\u001B[0;34m=\u001B[0m\u001B[0murl\u001B[0m\u001B[0;34m,\u001B[0m \u001B[0;34m**\u001B[0m\u001B[0mkwargs\u001B[0m\u001B[0;34m)\u001B[0m\u001B[0;34m\u001B[0m\u001B[0;34m\u001B[0m\u001B[0m\n\u001B[0m\u001B[1;32m     60\u001B[0m \u001B[0;34m\u001B[0m\u001B[0m\n\u001B[1;32m     61\u001B[0m \u001B[0;34m\u001B[0m\u001B[0m\n",
      "\u001B[0;32m~/miniconda3/envs/llm_human_model/lib/python3.7/site-packages/requests/sessions.py\u001B[0m in \u001B[0;36mrequest\u001B[0;34m(self, method, url, params, data, headers, cookies, files, auth, timeout, allow_redirects, proxies, hooks, stream, verify, cert, json)\u001B[0m\n\u001B[1;32m    585\u001B[0m         }\n\u001B[1;32m    586\u001B[0m         \u001B[0msend_kwargs\u001B[0m\u001B[0;34m.\u001B[0m\u001B[0mupdate\u001B[0m\u001B[0;34m(\u001B[0m\u001B[0msettings\u001B[0m\u001B[0;34m)\u001B[0m\u001B[0;34m\u001B[0m\u001B[0;34m\u001B[0m\u001B[0m\n\u001B[0;32m--> 587\u001B[0;31m         \u001B[0mresp\u001B[0m \u001B[0;34m=\u001B[0m \u001B[0mself\u001B[0m\u001B[0;34m.\u001B[0m\u001B[0msend\u001B[0m\u001B[0;34m(\u001B[0m\u001B[0mprep\u001B[0m\u001B[0;34m,\u001B[0m \u001B[0;34m**\u001B[0m\u001B[0msend_kwargs\u001B[0m\u001B[0;34m)\u001B[0m\u001B[0;34m\u001B[0m\u001B[0;34m\u001B[0m\u001B[0m\n\u001B[0m\u001B[1;32m    588\u001B[0m \u001B[0;34m\u001B[0m\u001B[0m\n\u001B[1;32m    589\u001B[0m         \u001B[0;32mreturn\u001B[0m \u001B[0mresp\u001B[0m\u001B[0;34m\u001B[0m\u001B[0;34m\u001B[0m\u001B[0m\n",
      "\u001B[0;32m~/miniconda3/envs/llm_human_model/lib/python3.7/site-packages/requests/sessions.py\u001B[0m in \u001B[0;36msend\u001B[0;34m(self, request, **kwargs)\u001B[0m\n\u001B[1;32m    699\u001B[0m \u001B[0;34m\u001B[0m\u001B[0m\n\u001B[1;32m    700\u001B[0m         \u001B[0;31m# Send the request\u001B[0m\u001B[0;34m\u001B[0m\u001B[0;34m\u001B[0m\u001B[0;34m\u001B[0m\u001B[0m\n\u001B[0;32m--> 701\u001B[0;31m         \u001B[0mr\u001B[0m \u001B[0;34m=\u001B[0m \u001B[0madapter\u001B[0m\u001B[0;34m.\u001B[0m\u001B[0msend\u001B[0m\u001B[0;34m(\u001B[0m\u001B[0mrequest\u001B[0m\u001B[0;34m,\u001B[0m \u001B[0;34m**\u001B[0m\u001B[0mkwargs\u001B[0m\u001B[0;34m)\u001B[0m\u001B[0;34m\u001B[0m\u001B[0;34m\u001B[0m\u001B[0m\n\u001B[0m\u001B[1;32m    702\u001B[0m \u001B[0;34m\u001B[0m\u001B[0m\n\u001B[1;32m    703\u001B[0m         \u001B[0;31m# Total elapsed time of the request (approximately)\u001B[0m\u001B[0;34m\u001B[0m\u001B[0;34m\u001B[0m\u001B[0;34m\u001B[0m\u001B[0m\n",
      "\u001B[0;32m~/miniconda3/envs/llm_human_model/lib/python3.7/site-packages/requests/adapters.py\u001B[0m in \u001B[0;36msend\u001B[0;34m(self, request, stream, timeout, verify, cert, proxies)\u001B[0m\n\u001B[1;32m    497\u001B[0m                     \u001B[0mdecode_content\u001B[0m\u001B[0;34m=\u001B[0m\u001B[0;32mFalse\u001B[0m\u001B[0;34m,\u001B[0m\u001B[0;34m\u001B[0m\u001B[0;34m\u001B[0m\u001B[0m\n\u001B[1;32m    498\u001B[0m                     \u001B[0mretries\u001B[0m\u001B[0;34m=\u001B[0m\u001B[0mself\u001B[0m\u001B[0;34m.\u001B[0m\u001B[0mmax_retries\u001B[0m\u001B[0;34m,\u001B[0m\u001B[0;34m\u001B[0m\u001B[0;34m\u001B[0m\u001B[0m\n\u001B[0;32m--> 499\u001B[0;31m                     \u001B[0mtimeout\u001B[0m\u001B[0;34m=\u001B[0m\u001B[0mtimeout\u001B[0m\u001B[0;34m,\u001B[0m\u001B[0;34m\u001B[0m\u001B[0;34m\u001B[0m\u001B[0m\n\u001B[0m\u001B[1;32m    500\u001B[0m                 )\n\u001B[1;32m    501\u001B[0m \u001B[0;34m\u001B[0m\u001B[0m\n",
      "\u001B[0;32m~/miniconda3/envs/llm_human_model/lib/python3.7/site-packages/urllib3/connectionpool.py\u001B[0m in \u001B[0;36murlopen\u001B[0;34m(self, method, url, body, headers, retries, redirect, assert_same_host, timeout, pool_timeout, release_conn, chunked, body_pos, **response_kw)\u001B[0m\n\u001B[1;32m    708\u001B[0m                 \u001B[0mbody\u001B[0m\u001B[0;34m=\u001B[0m\u001B[0mbody\u001B[0m\u001B[0;34m,\u001B[0m\u001B[0;34m\u001B[0m\u001B[0;34m\u001B[0m\u001B[0m\n\u001B[1;32m    709\u001B[0m                 \u001B[0mheaders\u001B[0m\u001B[0;34m=\u001B[0m\u001B[0mheaders\u001B[0m\u001B[0;34m,\u001B[0m\u001B[0;34m\u001B[0m\u001B[0;34m\u001B[0m\u001B[0m\n\u001B[0;32m--> 710\u001B[0;31m                 \u001B[0mchunked\u001B[0m\u001B[0;34m=\u001B[0m\u001B[0mchunked\u001B[0m\u001B[0;34m,\u001B[0m\u001B[0;34m\u001B[0m\u001B[0;34m\u001B[0m\u001B[0m\n\u001B[0m\u001B[1;32m    711\u001B[0m             )\n\u001B[1;32m    712\u001B[0m \u001B[0;34m\u001B[0m\u001B[0m\n",
      "\u001B[0;32m~/miniconda3/envs/llm_human_model/lib/python3.7/site-packages/urllib3/connectionpool.py\u001B[0m in \u001B[0;36m_make_request\u001B[0;34m(self, conn, method, url, timeout, chunked, **httplib_request_kw)\u001B[0m\n\u001B[1;32m    447\u001B[0m                     \u001B[0;31m# Python 3 (including for exceptions like SystemExit).\u001B[0m\u001B[0;34m\u001B[0m\u001B[0;34m\u001B[0m\u001B[0;34m\u001B[0m\u001B[0m\n\u001B[1;32m    448\u001B[0m                     \u001B[0;31m# Otherwise it looks like a bug in the code.\u001B[0m\u001B[0;34m\u001B[0m\u001B[0;34m\u001B[0m\u001B[0;34m\u001B[0m\u001B[0m\n\u001B[0;32m--> 449\u001B[0;31m                     \u001B[0msix\u001B[0m\u001B[0;34m.\u001B[0m\u001B[0mraise_from\u001B[0m\u001B[0;34m(\u001B[0m\u001B[0me\u001B[0m\u001B[0;34m,\u001B[0m \u001B[0;32mNone\u001B[0m\u001B[0;34m)\u001B[0m\u001B[0;34m\u001B[0m\u001B[0;34m\u001B[0m\u001B[0m\n\u001B[0m\u001B[1;32m    450\u001B[0m         \u001B[0;32mexcept\u001B[0m \u001B[0;34m(\u001B[0m\u001B[0mSocketTimeout\u001B[0m\u001B[0;34m,\u001B[0m \u001B[0mBaseSSLError\u001B[0m\u001B[0;34m,\u001B[0m \u001B[0mSocketError\u001B[0m\u001B[0;34m)\u001B[0m \u001B[0;32mas\u001B[0m \u001B[0me\u001B[0m\u001B[0;34m:\u001B[0m\u001B[0;34m\u001B[0m\u001B[0;34m\u001B[0m\u001B[0m\n\u001B[1;32m    451\u001B[0m             \u001B[0mself\u001B[0m\u001B[0;34m.\u001B[0m\u001B[0m_raise_timeout\u001B[0m\u001B[0;34m(\u001B[0m\u001B[0merr\u001B[0m\u001B[0;34m=\u001B[0m\u001B[0me\u001B[0m\u001B[0;34m,\u001B[0m \u001B[0murl\u001B[0m\u001B[0;34m=\u001B[0m\u001B[0murl\u001B[0m\u001B[0;34m,\u001B[0m \u001B[0mtimeout_value\u001B[0m\u001B[0;34m=\u001B[0m\u001B[0mread_timeout\u001B[0m\u001B[0;34m)\u001B[0m\u001B[0;34m\u001B[0m\u001B[0;34m\u001B[0m\u001B[0m\n",
      "\u001B[0;32m~/miniconda3/envs/llm_human_model/lib/python3.7/site-packages/urllib3/packages/six.py\u001B[0m in \u001B[0;36mraise_from\u001B[0;34m(value, from_value)\u001B[0m\n",
      "\u001B[0;32m~/miniconda3/envs/llm_human_model/lib/python3.7/site-packages/urllib3/connectionpool.py\u001B[0m in \u001B[0;36m_make_request\u001B[0;34m(self, conn, method, url, timeout, chunked, **httplib_request_kw)\u001B[0m\n\u001B[1;32m    442\u001B[0m                 \u001B[0;31m# Python 3\u001B[0m\u001B[0;34m\u001B[0m\u001B[0;34m\u001B[0m\u001B[0;34m\u001B[0m\u001B[0m\n\u001B[1;32m    443\u001B[0m                 \u001B[0;32mtry\u001B[0m\u001B[0;34m:\u001B[0m\u001B[0;34m\u001B[0m\u001B[0;34m\u001B[0m\u001B[0m\n\u001B[0;32m--> 444\u001B[0;31m                     \u001B[0mhttplib_response\u001B[0m \u001B[0;34m=\u001B[0m \u001B[0mconn\u001B[0m\u001B[0;34m.\u001B[0m\u001B[0mgetresponse\u001B[0m\u001B[0;34m(\u001B[0m\u001B[0;34m)\u001B[0m\u001B[0;34m\u001B[0m\u001B[0;34m\u001B[0m\u001B[0m\n\u001B[0m\u001B[1;32m    445\u001B[0m                 \u001B[0;32mexcept\u001B[0m \u001B[0mBaseException\u001B[0m \u001B[0;32mas\u001B[0m \u001B[0me\u001B[0m\u001B[0;34m:\u001B[0m\u001B[0;34m\u001B[0m\u001B[0;34m\u001B[0m\u001B[0m\n\u001B[1;32m    446\u001B[0m                     \u001B[0;31m# Remove the TypeError from the exception chain in\u001B[0m\u001B[0;34m\u001B[0m\u001B[0;34m\u001B[0m\u001B[0;34m\u001B[0m\u001B[0m\n",
      "\u001B[0;32m~/miniconda3/envs/llm_human_model/lib/python3.7/http/client.py\u001B[0m in \u001B[0;36mgetresponse\u001B[0;34m(self)\u001B[0m\n\u001B[1;32m   1371\u001B[0m         \u001B[0;32mtry\u001B[0m\u001B[0;34m:\u001B[0m\u001B[0;34m\u001B[0m\u001B[0;34m\u001B[0m\u001B[0m\n\u001B[1;32m   1372\u001B[0m             \u001B[0;32mtry\u001B[0m\u001B[0;34m:\u001B[0m\u001B[0;34m\u001B[0m\u001B[0;34m\u001B[0m\u001B[0m\n\u001B[0;32m-> 1373\u001B[0;31m                 \u001B[0mresponse\u001B[0m\u001B[0;34m.\u001B[0m\u001B[0mbegin\u001B[0m\u001B[0;34m(\u001B[0m\u001B[0;34m)\u001B[0m\u001B[0;34m\u001B[0m\u001B[0;34m\u001B[0m\u001B[0m\n\u001B[0m\u001B[1;32m   1374\u001B[0m             \u001B[0;32mexcept\u001B[0m \u001B[0mConnectionError\u001B[0m\u001B[0;34m:\u001B[0m\u001B[0;34m\u001B[0m\u001B[0;34m\u001B[0m\u001B[0m\n\u001B[1;32m   1375\u001B[0m                 \u001B[0mself\u001B[0m\u001B[0;34m.\u001B[0m\u001B[0mclose\u001B[0m\u001B[0;34m(\u001B[0m\u001B[0;34m)\u001B[0m\u001B[0;34m\u001B[0m\u001B[0;34m\u001B[0m\u001B[0m\n",
      "\u001B[0;32m~/miniconda3/envs/llm_human_model/lib/python3.7/http/client.py\u001B[0m in \u001B[0;36mbegin\u001B[0;34m(self)\u001B[0m\n\u001B[1;32m    317\u001B[0m         \u001B[0;31m# read until we get a non-100 response\u001B[0m\u001B[0;34m\u001B[0m\u001B[0;34m\u001B[0m\u001B[0;34m\u001B[0m\u001B[0m\n\u001B[1;32m    318\u001B[0m         \u001B[0;32mwhile\u001B[0m \u001B[0;32mTrue\u001B[0m\u001B[0;34m:\u001B[0m\u001B[0;34m\u001B[0m\u001B[0;34m\u001B[0m\u001B[0m\n\u001B[0;32m--> 319\u001B[0;31m             \u001B[0mversion\u001B[0m\u001B[0;34m,\u001B[0m \u001B[0mstatus\u001B[0m\u001B[0;34m,\u001B[0m \u001B[0mreason\u001B[0m \u001B[0;34m=\u001B[0m \u001B[0mself\u001B[0m\u001B[0;34m.\u001B[0m\u001B[0m_read_status\u001B[0m\u001B[0;34m(\u001B[0m\u001B[0;34m)\u001B[0m\u001B[0;34m\u001B[0m\u001B[0;34m\u001B[0m\u001B[0m\n\u001B[0m\u001B[1;32m    320\u001B[0m             \u001B[0;32mif\u001B[0m \u001B[0mstatus\u001B[0m \u001B[0;34m!=\u001B[0m \u001B[0mCONTINUE\u001B[0m\u001B[0;34m:\u001B[0m\u001B[0;34m\u001B[0m\u001B[0;34m\u001B[0m\u001B[0m\n\u001B[1;32m    321\u001B[0m                 \u001B[0;32mbreak\u001B[0m\u001B[0;34m\u001B[0m\u001B[0;34m\u001B[0m\u001B[0m\n",
      "\u001B[0;32m~/miniconda3/envs/llm_human_model/lib/python3.7/http/client.py\u001B[0m in \u001B[0;36m_read_status\u001B[0;34m(self)\u001B[0m\n\u001B[1;32m    278\u001B[0m \u001B[0;34m\u001B[0m\u001B[0m\n\u001B[1;32m    279\u001B[0m     \u001B[0;32mdef\u001B[0m \u001B[0m_read_status\u001B[0m\u001B[0;34m(\u001B[0m\u001B[0mself\u001B[0m\u001B[0;34m)\u001B[0m\u001B[0;34m:\u001B[0m\u001B[0;34m\u001B[0m\u001B[0;34m\u001B[0m\u001B[0m\n\u001B[0;32m--> 280\u001B[0;31m         \u001B[0mline\u001B[0m \u001B[0;34m=\u001B[0m \u001B[0mstr\u001B[0m\u001B[0;34m(\u001B[0m\u001B[0mself\u001B[0m\u001B[0;34m.\u001B[0m\u001B[0mfp\u001B[0m\u001B[0;34m.\u001B[0m\u001B[0mreadline\u001B[0m\u001B[0;34m(\u001B[0m\u001B[0m_MAXLINE\u001B[0m \u001B[0;34m+\u001B[0m \u001B[0;36m1\u001B[0m\u001B[0;34m)\u001B[0m\u001B[0;34m,\u001B[0m \u001B[0;34m\"iso-8859-1\"\u001B[0m\u001B[0;34m)\u001B[0m\u001B[0;34m\u001B[0m\u001B[0;34m\u001B[0m\u001B[0m\n\u001B[0m\u001B[1;32m    281\u001B[0m         \u001B[0;32mif\u001B[0m \u001B[0mlen\u001B[0m\u001B[0;34m(\u001B[0m\u001B[0mline\u001B[0m\u001B[0;34m)\u001B[0m \u001B[0;34m>\u001B[0m \u001B[0m_MAXLINE\u001B[0m\u001B[0;34m:\u001B[0m\u001B[0;34m\u001B[0m\u001B[0;34m\u001B[0m\u001B[0m\n\u001B[1;32m    282\u001B[0m             \u001B[0;32mraise\u001B[0m \u001B[0mLineTooLong\u001B[0m\u001B[0;34m(\u001B[0m\u001B[0;34m\"status line\"\u001B[0m\u001B[0;34m)\u001B[0m\u001B[0;34m\u001B[0m\u001B[0;34m\u001B[0m\u001B[0m\n",
      "\u001B[0;32m~/miniconda3/envs/llm_human_model/lib/python3.7/socket.py\u001B[0m in \u001B[0;36mreadinto\u001B[0;34m(self, b)\u001B[0m\n\u001B[1;32m    587\u001B[0m         \u001B[0;32mwhile\u001B[0m \u001B[0;32mTrue\u001B[0m\u001B[0;34m:\u001B[0m\u001B[0;34m\u001B[0m\u001B[0;34m\u001B[0m\u001B[0m\n\u001B[1;32m    588\u001B[0m             \u001B[0;32mtry\u001B[0m\u001B[0;34m:\u001B[0m\u001B[0;34m\u001B[0m\u001B[0;34m\u001B[0m\u001B[0m\n\u001B[0;32m--> 589\u001B[0;31m                 \u001B[0;32mreturn\u001B[0m \u001B[0mself\u001B[0m\u001B[0;34m.\u001B[0m\u001B[0m_sock\u001B[0m\u001B[0;34m.\u001B[0m\u001B[0mrecv_into\u001B[0m\u001B[0;34m(\u001B[0m\u001B[0mb\u001B[0m\u001B[0;34m)\u001B[0m\u001B[0;34m\u001B[0m\u001B[0;34m\u001B[0m\u001B[0m\n\u001B[0m\u001B[1;32m    590\u001B[0m             \u001B[0;32mexcept\u001B[0m \u001B[0mtimeout\u001B[0m\u001B[0;34m:\u001B[0m\u001B[0;34m\u001B[0m\u001B[0;34m\u001B[0m\u001B[0m\n\u001B[1;32m    591\u001B[0m                 \u001B[0mself\u001B[0m\u001B[0;34m.\u001B[0m\u001B[0m_timeout_occurred\u001B[0m \u001B[0;34m=\u001B[0m \u001B[0;32mTrue\u001B[0m\u001B[0;34m\u001B[0m\u001B[0;34m\u001B[0m\u001B[0m\n",
      "\u001B[0;32m~/miniconda3/envs/llm_human_model/lib/python3.7/ssl.py\u001B[0m in \u001B[0;36mrecv_into\u001B[0;34m(self, buffer, nbytes, flags)\u001B[0m\n\u001B[1;32m   1069\u001B[0m                   \u001B[0;34m\"non-zero flags not allowed in calls to recv_into() on %s\"\u001B[0m \u001B[0;34m%\u001B[0m\u001B[0;34m\u001B[0m\u001B[0;34m\u001B[0m\u001B[0m\n\u001B[1;32m   1070\u001B[0m                   self.__class__)\n\u001B[0;32m-> 1071\u001B[0;31m             \u001B[0;32mreturn\u001B[0m \u001B[0mself\u001B[0m\u001B[0;34m.\u001B[0m\u001B[0mread\u001B[0m\u001B[0;34m(\u001B[0m\u001B[0mnbytes\u001B[0m\u001B[0;34m,\u001B[0m \u001B[0mbuffer\u001B[0m\u001B[0;34m)\u001B[0m\u001B[0;34m\u001B[0m\u001B[0;34m\u001B[0m\u001B[0m\n\u001B[0m\u001B[1;32m   1072\u001B[0m         \u001B[0;32melse\u001B[0m\u001B[0;34m:\u001B[0m\u001B[0;34m\u001B[0m\u001B[0;34m\u001B[0m\u001B[0m\n\u001B[1;32m   1073\u001B[0m             \u001B[0;32mreturn\u001B[0m \u001B[0msuper\u001B[0m\u001B[0;34m(\u001B[0m\u001B[0;34m)\u001B[0m\u001B[0;34m.\u001B[0m\u001B[0mrecv_into\u001B[0m\u001B[0;34m(\u001B[0m\u001B[0mbuffer\u001B[0m\u001B[0;34m,\u001B[0m \u001B[0mnbytes\u001B[0m\u001B[0;34m,\u001B[0m \u001B[0mflags\u001B[0m\u001B[0;34m)\u001B[0m\u001B[0;34m\u001B[0m\u001B[0;34m\u001B[0m\u001B[0m\n",
      "\u001B[0;32m~/miniconda3/envs/llm_human_model/lib/python3.7/ssl.py\u001B[0m in \u001B[0;36mread\u001B[0;34m(self, len, buffer)\u001B[0m\n\u001B[1;32m    927\u001B[0m         \u001B[0;32mtry\u001B[0m\u001B[0;34m:\u001B[0m\u001B[0;34m\u001B[0m\u001B[0;34m\u001B[0m\u001B[0m\n\u001B[1;32m    928\u001B[0m             \u001B[0;32mif\u001B[0m \u001B[0mbuffer\u001B[0m \u001B[0;32mis\u001B[0m \u001B[0;32mnot\u001B[0m \u001B[0;32mNone\u001B[0m\u001B[0;34m:\u001B[0m\u001B[0;34m\u001B[0m\u001B[0;34m\u001B[0m\u001B[0m\n\u001B[0;32m--> 929\u001B[0;31m                 \u001B[0;32mreturn\u001B[0m \u001B[0mself\u001B[0m\u001B[0;34m.\u001B[0m\u001B[0m_sslobj\u001B[0m\u001B[0;34m.\u001B[0m\u001B[0mread\u001B[0m\u001B[0;34m(\u001B[0m\u001B[0mlen\u001B[0m\u001B[0;34m,\u001B[0m \u001B[0mbuffer\u001B[0m\u001B[0;34m)\u001B[0m\u001B[0;34m\u001B[0m\u001B[0;34m\u001B[0m\u001B[0m\n\u001B[0m\u001B[1;32m    930\u001B[0m             \u001B[0;32melse\u001B[0m\u001B[0;34m:\u001B[0m\u001B[0;34m\u001B[0m\u001B[0;34m\u001B[0m\u001B[0m\n\u001B[1;32m    931\u001B[0m                 \u001B[0;32mreturn\u001B[0m \u001B[0mself\u001B[0m\u001B[0;34m.\u001B[0m\u001B[0m_sslobj\u001B[0m\u001B[0;34m.\u001B[0m\u001B[0mread\u001B[0m\u001B[0;34m(\u001B[0m\u001B[0mlen\u001B[0m\u001B[0;34m)\u001B[0m\u001B[0;34m\u001B[0m\u001B[0;34m\u001B[0m\u001B[0m\n",
      "\u001B[0;31mKeyboardInterrupt\u001B[0m: "
     ]
    }
   ],
   "source": [
    "model_loaded = False\n",
    "for dom in dom_list:\n",
    "    for prompt_structure in prompt_structure_list:\n",
    "        post_obs_trust_csv_path = f'./results/trust_transfer_t5_post_obs_{dom}_{prompt_structure}.csv'\n",
    "        if not os.path.exists(post_obs_trust_csv_path):\n",
    "            # Load model\n",
    "            if not model_loaded:\n",
    "                max_memory = {0: \"20GIB\", 1: \"20GIB\", 2: \"20GIB\", 3: \"20GIB\"}\n",
    "                t5_model = T5ForConditionalGeneration.from_pretrained(\"google/flan-t5-xxl\", device_map=\"auto\", max_memory=max_memory)\n",
    "                t5_tokenizer = T5Tokenizer.from_pretrained(\"google/flan-t5-xxl\")\n",
    "                model_loaded = True\n",
    "\n",
    "            post_obs_trust_csv_file = open(post_obs_trust_csv_path, 'w')\n",
    "            writer = csv.writer(post_obs_trust_csv_file)\n",
    "            header = ['id', 'test_task_descr_1', 'test_task_descr_2', 'test_task_descr_3', 'obs_task_descr_1', 'obs_task_descr_2', 'obs_tasks_perf_1', 'obs_tasks_perf_2', 'post_obs_task_descr', 'prompt']\n",
    "            header += answer_choices\n",
    "            writer.writerow(header)\n",
    "\n",
    "            if dom == 'household':\n",
    "                df = trust_transfer_household_df\n",
    "                if prompt_structure == 'base':\n",
    "                    prompt_creation_fn = trust_transfer_experiment_utils.create_template_household_t5\n",
    "                else:\n",
    "                    prompt_creation_fn = trust_transfer_experiment_utils.create_template_household_t5_altered\n",
    "            else:\n",
    "                df = trust_transfer_driving_df\n",
    "                if prompt_structure == 'base':\n",
    "                    prompt_creation_fn = trust_transfer_experiment_utils.create_template_driving_t5\n",
    "                else:\n",
    "                    prompt_creation_fn = trust_transfer_experiment_utils.create_template_driving_t5_altered\n",
    "\n",
    "            for row_idx, row in tqdm(df.iterrows()):\n",
    "                test_tasks_id = [int(row['C_ID']), int(row['D_ID']), int(row['E_ID'])]\n",
    "                test_tasks_descr = [task_descr[dom][test_task_id] for test_task_id in test_tasks_id]\n",
    "                pre_trust = [int(row['C1_rating']), int(row['D1_rating']), int(row['E1_rating'])]\n",
    "                obs_tasks_id = [int(row['A_ID']), int(row['B_ID'])]\n",
    "                obs_tasks_perf = [True, True] if int(row['B_SF']) else [False, False]\n",
    "                obs_tasks_descr = [task_descr[dom][obs_task_id] for obs_task_id in obs_tasks_id]\n",
    "\n",
    "                for idx in range(3):\n",
    "                    template = prompt_creation_fn(test_tasks_descr, pre_trust, obs_tasks_descr, obs_tasks_perf, test_tasks_descr[idx])\n",
    "                    probs = utils.get_probs_t5([template], answer_choices, t5_model, t5_tokenizer)[0]\n",
    "                    writer.writerow([row_idx] + test_tasks_descr + obs_tasks_descr + obs_tasks_perf + [test_tasks_descr[idx], template] + probs)\n",
    "            post_obs_trust_csv_file.close()"
   ],
   "metadata": {
    "collapsed": false
   }
  },
  {
   "cell_type": "code",
   "execution_count": null,
   "outputs": [],
   "source": [
    "for dom in dom_list:\n",
    "    for prompt_structure in prompt_structure_list:\n",
    "        post_obs_trust_csv_path = f'./results/trust_transfer_davinci_post_obs_{dom}_{prompt_structure}.csv'\n",
    "        if not os.path.exists(post_obs_trust_csv_path):\n",
    "            post_obs_trust_csv_file = open(post_obs_trust_csv_path, 'w')\n",
    "            writer = csv.writer(post_obs_trust_csv_file)\n",
    "            header = ['id', 'test_task_descr_1', 'test_task_descr_2', 'test_task_descr_3', 'obs_task_descr_1', 'obs_task_descr_2', 'obs_tasks_perf_1', 'obs_tasks_perf_2', 'post_obs_task_descr', 'prompt']\n",
    "            header += answer_choices\n",
    "            writer.writerow(header)\n",
    "\n",
    "            if dom == 'household':\n",
    "                df = trust_transfer_household_df\n",
    "                if prompt_structure == 'base':\n",
    "                    prompt_creation_fn = trust_transfer_experiment_utils.create_template_household_davinci()\n",
    "                else:\n",
    "                    prompt_creation_fn = trust_transfer_experiment_utils.create_template_household_davinci_altered\n",
    "            else:\n",
    "                df = trust_transfer_driving_df\n",
    "                if prompt_structure == 'base':\n",
    "                    prompt_creation_fn = trust_transfer_experiment_utils.create_template_driving_davinci\n",
    "                else:\n",
    "                    prompt_creation_fn = trust_transfer_experiment_utils.create_template_driving_davinci_altered\n",
    "\n",
    "            for row_idx, row in tqdm(df.iterrows()):\n",
    "                test_tasks_id = [int(row['C_ID']), int(row['D_ID']), int(row['E_ID'])]\n",
    "                test_tasks_descr = [task_descr[dom][test_task_id] for test_task_id in test_tasks_id]\n",
    "                pre_trust = [int(row['C1_rating']), int(row['D1_rating']), int(row['E1_rating'])]\n",
    "                obs_tasks_id = [int(row['A_ID']), int(row['B_ID'])]\n",
    "                obs_tasks_perf = [True, True] if int(row['B_SF']) else [False, False]\n",
    "                obs_tasks_descr = [task_descr[dom][obs_task_id] for obs_task_id in obs_tasks_id]\n",
    "\n",
    "                for idx in range(3):\n",
    "                    template = prompt_creation_fn(test_tasks_descr, pre_trust, obs_tasks_descr, obs_tasks_perf, test_tasks_descr[idx])\n",
    "                    probs = utils.get_probs_davinci(template, answer_choices)\n",
    "                    writer.writerow([row_idx] + test_tasks_descr + obs_tasks_descr + obs_tasks_perf + [test_tasks_descr[idx], template] + probs)\n",
    "            post_obs_trust_csv_file.close()"
   ],
   "metadata": {
    "collapsed": false
   }
  },
  {
   "cell_type": "code",
   "execution_count": 17,
   "outputs": [
    {
     "name": "stdout",
     "output_type": "stream",
     "text": [
      "T5 RESULTS:\n",
      "\n",
      "Post same as Pre 21\n",
      "Domain household Prompt Structure base MAE 0.21115117215210447, CwM 0.7604166666666666\n",
      "Post same as Pre 23\n",
      "Domain driving Prompt Structure base MAE 0.21062865374388773, CwM 0.7204301075268817\n",
      "Overall MAE 0.2108940599194899, CwM 0.7407407407407407\n",
      "------------------------------\n",
      "Post same as Pre 2\n",
      "Domain household Prompt Structure altered MAE 0.16952754448010476, CwM 0.8020833333333334\n",
      "Post same as Pre 3\n",
      "Domain driving Prompt Structure altered MAE 0.15976733711975816, CwM 0.7956989247311828\n",
      "Overall MAE 0.1647249027631088, CwM 0.798941798941799\n",
      "------------------------------\n"
     ]
    }
   ],
   "source": [
    "print('T5 RESULTS:\\n')\n",
    "for prompt_structure in prompt_structure_list:\n",
    "    mae_list = []\n",
    "    cwm_list = []\n",
    "    for dom in dom_list:\n",
    "        post_obs_trust_csv_path = f'./results/trust_transfer_t5_post_obs_{dom}_{prompt_structure}.csv'\n",
    "        llm_post_trust_df = pd.read_csv(post_obs_trust_csv_path)\n",
    "        if dom == 'household':\n",
    "            gt_df = trust_transfer_household_df\n",
    "        else:\n",
    "            gt_df = trust_transfer_driving_df\n",
    "        mae, cwm = trust_transfer_experiment_utils.analyze_results(llm_post_trust_df, gt_df)\n",
    "        print(f\"Domain {dom} Prompt Structure {prompt_structure} MAE {mae}, CwM {cwm}\")\n",
    "        mae_list.append(mae)\n",
    "        cwm_list.append(cwm)\n",
    "    print(f\"Overall MAE {(mae_list[0] * 96 + mae_list[1] * 93) / 189}, CwM {(cwm_list[0] * 96 + cwm_list[1] * 93) / 189}\")\n",
    "    print('------------------------------')"
   ],
   "metadata": {
    "collapsed": false
   }
  },
  {
   "cell_type": "code",
   "execution_count": 18,
   "outputs": [
    {
     "name": "stdout",
     "output_type": "stream",
     "text": [
      "Davinci RESULTS:\n",
      "\n",
      "Post same as Pre 0\n",
      "Domain household Prompt Structure base MAE 0.1621312900357, CwM 0.8958333333333334\n",
      "Post same as Pre 0\n",
      "Domain driving Prompt Structure base MAE 0.15420239514865774, CwM 0.8064516129032258\n",
      "Overall MAE 0.1582297703293776, CwM 0.8518518518518519\n",
      "------------------------------\n",
      "Post same as Pre 1\n",
      "Domain household Prompt Structure altered MAE 0.16303994685915713, CwM 0.875\n",
      "Post same as Pre 0\n",
      "Domain driving Prompt Structure altered MAE 0.15503605938460954, CwM 0.8064516129032258\n",
      "Overall MAE 0.15910152603834798, CwM 0.8412698412698413\n",
      "------------------------------\n"
     ]
    }
   ],
   "source": [
    "print('Davinci RESULTS:\\n')\n",
    "for prompt_structure in prompt_structure_list:\n",
    "    mae_list = []\n",
    "    cwm_list = []\n",
    "    for dom in dom_list:\n",
    "        post_obs_trust_csv_path = f'./results/trust_transfer_davinci_post_obs_{dom}_{prompt_structure}.csv'\n",
    "        llm_post_trust_df = pd.read_csv(post_obs_trust_csv_path)\n",
    "        if dom == 'household':\n",
    "            gt_df = trust_transfer_household_df\n",
    "        else:\n",
    "            gt_df = trust_transfer_driving_df\n",
    "        mae, cwm = trust_transfer_experiment_utils.analyze_results(llm_post_trust_df, gt_df)\n",
    "        print(f\"Domain {dom} Prompt Structure {prompt_structure} MAE {mae}, CwM {cwm}\")\n",
    "        mae_list.append(mae)\n",
    "        cwm_list.append(cwm)\n",
    "    print(f\"Overall MAE {(mae_list[0] * 96 + mae_list[1] * 93) / 189}, CwM {(cwm_list[0] * 96 + cwm_list[1] * 93) / 189}\")\n",
    "    print('------------------------------')"
   ],
   "metadata": {
    "collapsed": false
   }
  }
 ],
 "metadata": {
  "kernelspec": {
   "display_name": "Python 3",
   "language": "python",
   "name": "python3"
  },
  "language_info": {
   "codemirror_mode": {
    "name": "ipython",
    "version": 2
   },
   "file_extension": ".py",
   "mimetype": "text/x-python",
   "name": "python",
   "nbconvert_exporter": "python",
   "pygments_lexer": "ipython2",
   "version": "2.7.6"
  }
 },
 "nbformat": 4,
 "nbformat_minor": 0
}
