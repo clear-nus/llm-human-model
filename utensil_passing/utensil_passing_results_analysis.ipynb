{
 "cells": [
  {
   "cell_type": "code",
   "execution_count": 1,
   "outputs": [],
   "source": [
    "%config InlineBackend.figure_format = 'svg'\n",
    "import pandas as pd\n",
    "from collections import Counter\n",
    "import numpy as np\n",
    "from scipy.stats import sem\n",
    "import utensil_passing_utils\n",
    "\n",
    "myopic_result_df = pd.read_csv('./survey_results/myopic_results.csv')\n",
    "llm_result_df = pd.read_csv('./survey_results/llm_results.csv')\n",
    "\n",
    "myopic_human_action_list, myopic_reward_list = utensil_passing_utils.analyze_myopic_results(myopic_result_df)\n",
    "llm_human_action_list, llm_reward_list = utensil_passing_utils.analyze_llm_results(llm_result_df)\n",
    "\n",
    "myopic_human_action_list_scissors, myopic_reward_list_scissors = utensil_passing_utils.analyze_myopic_results(myopic_result_df, observe_scissors_only=True)\n",
    "llm_human_action_list_scissors, llm_reward_list_scissors = utensil_passing_utils.analyze_llm_results(llm_result_df,observe_scissors_only=True)"
   ],
   "metadata": {
    "collapsed": false
   }
  },
  {
   "cell_type": "code",
   "execution_count": 2,
   "outputs": [
    {
     "name": "stdout",
     "output_type": "stream",
     "text": [
      "Overall: \n",
      "\n",
      "Myopic reward: Mean -4.242424242424242 SEM 0.8083727376723796 Knife fail rate 0.6363636363636364\n",
      "LLM reward: Mean -1.875 SEM 0.8054126371798696 Knife fail rate 0.28125\n",
      "F_onewayResult(statistic=4.301605058578302, pvalue=0.04216923372086379)\n"
     ]
    }
   ],
   "source": [
    "from scipy.stats import f_oneway\n",
    "myopic_failures = [a[-1] == '1' for a in myopic_human_action_list].count(True)\n",
    "llm_failures = [a[-1] == '1' for a in llm_human_action_list].count(True)\n",
    "\n",
    "print(\"Overall: \\n\")\n",
    "print(f\"Myopic reward: Mean {np.mean(myopic_reward_list)} SEM {sem(myopic_reward_list)} Knife fail rate {myopic_failures / len(myopic_reward_list)}\")\n",
    "print(f\"LLM reward: Mean {np.mean(llm_reward_list)} SEM {sem(llm_reward_list)} Knife fail rate {llm_failures / len(llm_reward_list)}\")\n",
    "\n",
    "\n",
    "print(f_oneway(llm_reward_list, myopic_reward_list))"
   ],
   "metadata": {
    "collapsed": false
   }
  },
  {
   "cell_type": "code",
   "execution_count": 3,
   "outputs": [
    {
     "name": "stdout",
     "output_type": "stream",
     "text": [
      "For those who observed scissors: \n",
      "\n",
      "Myopic reward: Mean -6.666666666666667 SEM 0.6299407883487121 Knife fail rate 0.9333333333333333\n",
      "LLM reward: Mean -0.25 SEM 0.7140507132218492 Knife fail rate 0.1\n",
      "F_onewayResult(statistic=42.031578947368416, pvalue=2.3437146384316705e-07)\n"
     ]
    }
   ],
   "source": [
    "from scipy.stats import f_oneway\n",
    "myopic_failures_scissors = [a[-1] == '1' for a in myopic_human_action_list_scissors].count(True)\n",
    "llm_failures_scissors = [a[-1] == '1' for a in llm_human_action_list_scissors].count(True)\n",
    "\n",
    "print(\"For those who observed scissors: \\n\")\n",
    "print(f\"Myopic reward: Mean {np.mean(myopic_reward_list_scissors)} SEM {sem(myopic_reward_list_scissors)} Knife fail rate {myopic_failures_scissors / len(myopic_reward_list_scissors)}\")\n",
    "print(f\"LLM reward: Mean {np.mean(llm_reward_list_scissors)} SEM {sem(llm_reward_list_scissors)} Knife fail rate {llm_failures_scissors / len(llm_reward_list_scissors)}\")\n",
    "\n",
    "\n",
    "print(f_oneway(llm_reward_list_scissors, myopic_reward_list_scissors))"
   ],
   "metadata": {
    "collapsed": false
   }
  }
 ],
 "metadata": {
  "kernelspec": {
   "display_name": "Python 3",
   "language": "python",
   "name": "python3"
  },
  "language_info": {
   "codemirror_mode": {
    "name": "ipython",
    "version": 2
   },
   "file_extension": ".py",
   "mimetype": "text/x-python",
   "name": "python",
   "nbconvert_exporter": "python",
   "pygments_lexer": "ipython2",
   "version": "2.7.6"
  }
 },
 "nbformat": 4,
 "nbformat_minor": 0
}
