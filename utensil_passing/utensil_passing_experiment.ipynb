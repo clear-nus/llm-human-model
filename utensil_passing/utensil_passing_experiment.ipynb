{
 "cells": [
  {
   "cell_type": "code",
   "execution_count": 25,
   "metadata": {},
   "outputs": [
    {
     "name": "stdout",
     "output_type": "stream",
     "text": [
      "The autoreload extension is already loaded. To reload it, use:\n",
      "  %reload_ext autoreload\n"
     ]
    }
   ],
   "source": [
    "%load_ext autoreload\n",
    "%autoreload 2\n",
    "import pandas as pd\n",
    "from tqdm import tqdm\n",
    "import os\n",
    "import csv\n",
    "import numpy as np\n",
    "import utils\n",
    "from transformers import T5Tokenizer, T5ForConditionalGeneration\n",
    "import utensil_passing_utils\n",
    "from datetime import datetime"
   ]
  },
  {
   "cell_type": "code",
   "execution_count": 26,
   "metadata": {},
   "outputs": [
    {
     "data": {
      "text/plain": "1281"
     },
     "execution_count": 26,
     "metadata": {},
     "output_type": "execute_result"
    }
   ],
   "source": [
    "remaining_objects = {'spatula': 1, 'whisk': 1, 'scissors': 1, 'knife': 1}\n",
    "root_node = utensil_passing_utils.Node(remaining_objects, [], include_trust_change=True)\n",
    "\n",
    "utensil_passing_utils.expand_interaction_tree(root_node, template_generation_fn=utensil_passing_utils.generate_template)\n",
    "all_nodes = root_node.traverse()"
   ]
  },
  {
   "cell_type": "code",
   "execution_count": 27,
   "metadata": {},
   "outputs": [],
   "source": [
    "answer_choices = [\"A\", \"B\"]"
   ]
  },
  {
   "cell_type": "code",
   "execution_count": 28,
   "metadata": {},
   "outputs": [],
   "source": [
    "result_header = ['remaining objects', 'history', 'prompt'] + answer_choices\n",
    "result_header.append('sum of prob')\n",
    "include_trust_change = False\n",
    "query_action = True\n",
    "\n",
    "llm_result_path = f\"./results/davinci.csv\"\n",
    "if not os.path.exists(llm_result_path):\n",
    "    llm_result_file = open(llm_result_path, 'w')\n",
    "    writer = csv.writer(llm_result_file)\n",
    "    writer.writerow(result_header)\n",
    "\n",
    "    remaining_objects = {'spatula': 1, 'whisk': 1, 'scissors': 1, 'knife': 1, }\n",
    "    root_node = utensil_passing_utils.Node(remaining_objects, [], include_trust_change=True)\n",
    "    utensil_passing_utils.expand_interaction_tree(root_node, template_generation_fn=utensil_passing_utils.generate_template)\n",
    "    all_nodes = root_node.traverse()\n",
    "    \n",
    "    print(f\"Saving to {llm_result_path}\")\n",
    "\n",
    "    for node in tqdm(all_nodes):\n",
    "        for prompt in node.prompts:\n",
    "            template = prompt + \" {}\"\n",
    "            probs = utils.get_probs_davinci(template, answer_choices)\n",
    "            writer.writerow([node.remaining_objects, node.history, prompt, probs[0], probs[1], sum(probs)])\n",
    "    llm_result_file.close()"
   ]
  },
  {
   "cell_type": "code",
   "execution_count": 29,
   "metadata": {},
   "outputs": [
    {
     "name": "stderr",
     "output_type": "stream",
     "text": [
      "100%|██████████| 1281/1281 [00:00<00:00, 3175.51it/s]\n"
     ]
    }
   ],
   "source": [
    "llm_result_df = pd.read_csv('./results/davinci.csv')\n",
    "# Get the probs\n",
    "s = set()\n",
    "for node in tqdm(all_nodes):\n",
    "    probs = {}\n",
    "    if len(llm_result_df[llm_result_df['history'] == str(node.history)]) == 0:\n",
    "        assert len(node.children) == 0\n",
    "    else:\n",
    "        robot_action_list = list(node.remaining_objects.keys())\n",
    "        if 'knife' not in node.remaining_objects:\n",
    "            assert len(node.children) == len(llm_result_df[llm_result_df['history'] == str(node.history)]) * 3\n",
    "        else:\n",
    "            assert len(node.children) == len(llm_result_df[llm_result_df['history'] == str(node.history)]) * 3 - 1\n",
    "        rows = llm_result_df[llm_result_df['history'] == str(node.history)]\n",
    "        assert len(rows) == len(robot_action_list)\n",
    "        for action_idx, action in enumerate(robot_action_list):\n",
    "            row = rows.iloc[action_idx]\n",
    "            assert f\"{action}?\" in row['prompt']\n",
    "            probs[action] = [row['A'] / (row['A'] + row['B']), row['B'] / (row['A'] + row['B'])]\n",
    "    node.probs = probs"
   ]
  },
  {
   "cell_type": "code",
   "execution_count": 30,
   "metadata": {},
   "outputs": [
    {
     "name": "stdout",
     "output_type": "stream",
     "text": [
      "20 498\n",
      "2.9909489720437346e-05\n"
     ]
    }
   ],
   "source": [
    "# Check the trust dynamics\n",
    "violation_amount = 0\n",
    "violation = 0\n",
    "total = 0\n",
    "for node in all_nodes:\n",
    "    if len(node.children) != 0:\n",
    "        for child_node_idx, child_node in enumerate(node.children):\n",
    "            if len(child_node.children) != 0:\n",
    "                for action, dist in child_node.probs.items():\n",
    "                    if child_node.history[-1][1]:\n",
    "                        # Intervened\n",
    "                        if dist[0] > node.probs[action][0]:\n",
    "                            violation += 1\n",
    "                            violation_amount += abs(dist[0] - node.probs[action][0])\n",
    "                        total += 1\n",
    "                    else:\n",
    "                        # Stayed put\n",
    "                        if child_node.history[-1][-1]:\n",
    "                            # Succeed\n",
    "                            if dist[0] < node.probs[action][0]:\n",
    "                                violation += 1\n",
    "                                violation_amount += abs(dist[0] - node.probs[action][0])\n",
    "                        else:\n",
    "                            # Failed\n",
    "                            if dist[0] > node.probs[action][0]:\n",
    "                                violation += 1\n",
    "                                violation_amount += abs(dist[0] - node.probs[action][0])\n",
    "                        total += 1\n",
    "print(violation, total)\n",
    "print(violation_amount)"
   ]
  },
  {
   "cell_type": "code",
   "execution_count": 33,
   "metadata": {},
   "outputs": [
    {
     "data": {
      "text/plain": "0.11353785142560353"
     },
     "execution_count": 33,
     "metadata": {},
     "output_type": "execute_result"
    }
   ],
   "source": [
    "# Get the policy\n",
    "# reward_dict = {'spoon': 1, 'fork': 1, 'knife': 1}\n",
    "q_dict = {node: {} for node in all_nodes}\n",
    "discount = 0.99\n",
    "# This is ok because we have a tree structure\n",
    "def get_value_of_node(cur_node: utensil_passing_utils.Node):\n",
    "    robot_action_list = list(cur_node.remaining_objects.keys())\n",
    "    if len(cur_node.children) == 0:\n",
    "        return 0\n",
    "    else:\n",
    "        for a_idx, a in enumerate(robot_action_list):\n",
    "            immediate_reward = 1\n",
    "            intervene_prob = cur_node.probs[a][1]\n",
    "            stay_put_prob = cur_node.probs[a][0]\n",
    "                        \n",
    "            if a != \"knife\":\n",
    "                stay_put_succ_node = cur_node.children[a_idx * 3]\n",
    "                stay_put_fail_node = cur_node.children[a_idx * 3 + 1]\n",
    "                intervene_node = cur_node.children[a_idx * 3 + 2]\n",
    "                q_dict[cur_node][f\"{a}_fail\"] = intervene_prob * discount * get_value_of_node(intervene_node) + stay_put_prob * (-1 + discount * get_value_of_node(stay_put_fail_node))\n",
    "                q_dict[cur_node][f\"{a}_succ\"] = intervene_prob * discount * get_value_of_node(intervene_node) + stay_put_prob * (immediate_reward + discount * get_value_of_node(stay_put_succ_node))\n",
    "            else:\n",
    "                intervene_node = cur_node.children[a_idx * 3 + 1]\n",
    "                # Failing on knife incurs a penalty of 10 and terminate\n",
    "                q_dict[cur_node][a] = intervene_prob * discount * get_value_of_node(intervene_node) + stay_put_prob * discount * -10\n",
    "                \n",
    "        return np.max(list(q_dict[cur_node].values()))\n",
    "            \n",
    "leaf_node = root_node.children[0].children[0].children[0].children[0]\n",
    "get_value_of_node(root_node)"
   ]
  },
  {
   "cell_type": "code",
   "execution_count": 35,
   "metadata": {},
   "outputs": [
    {
     "name": "stdout",
     "output_type": "stream",
     "text": [
      "spatula_succ\n",
      "whisk_succ\n",
      "scissors_fail\n",
      "knife\n"
     ]
    }
   ],
   "source": [
    "cur_node = root_node\n",
    "while len(cur_node.children) != 0:\n",
    "    action = max(q_dict[cur_node], key=q_dict[cur_node].get)\n",
    "    # print(q_dict[cur_node])\n",
    "    print(action)\n",
    "    if action != \"knife\":\n",
    "        object, result = action.split('_')\n",
    "        robot_action_list = list(cur_node.remaining_objects.keys())\n",
    "        action_idx = robot_action_list.index(object)\n",
    "        result_idx = 0 if result == 'succ' else 1\n",
    "        cur_node = cur_node.children[action_idx * 3 + result_idx]\n",
    "    else:\n",
    "        cur_node = cur_node.children[0]"
   ]
  }
 ],
 "metadata": {
  "kernelspec": {
   "display_name": "llm",
   "language": "python",
   "name": "python3"
  },
  "language_info": {
   "codemirror_mode": {
    "name": "ipython",
    "version": 3
   },
   "file_extension": ".py",
   "mimetype": "text/x-python",
   "name": "python",
   "nbconvert_exporter": "python",
   "pygments_lexer": "ipython3",
   "version": "3.8.16"
  },
  "orig_nbformat": 4,
  "vscode": {
   "interpreter": {
    "hash": "e1440383828611d8fed5d8091af4c473109f9ffafed453bfa3d9e353f9b9aeb7"
   }
  }
 },
 "nbformat": 4,
 "nbformat_minor": 2
}
